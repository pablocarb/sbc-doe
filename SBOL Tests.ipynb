{
 "cells": [
  {
   "cell_type": "markdown",
   "metadata": {},
   "source": [
    "Use `SBOL` to represent the combinatorial library."
   ]
  },
  {
   "cell_type": "code",
   "execution_count": 1,
   "metadata": {},
   "outputs": [],
   "source": [
    "from sbol import *\n",
    "\n",
    "# Set default namespace\n",
    "namespace = \"http://synbiochem.co.uk\"\n",
    "setHomespace( namespace )\n",
    "\n",
    "# Create a new SBOL document\n",
    "doc = Document()\n"
   ]
  },
  {
   "cell_type": "code",
   "execution_count": 2,
   "metadata": {},
   "outputs": [
    {
     "name": "stdout",
     "output_type": "stream",
     "text": [
      "http://synbiochem.co.uk/ComponentDefinition/gene_example/R0010_0/1.0.0\n",
      "http://synbiochem.co.uk/ComponentDefinition/gene_example/B0012_0/1.0.0\n"
     ]
    }
   ],
   "source": [
    "doc = Document()\n",
    "# Create several components \n",
    "gene = ComponentDefinition('gene_example')\n",
    "promoter = ComponentDefinition('R0010')\n",
    "CDS = ComponentDefinition('B0032')\n",
    "RBS = ComponentDefinition('E0040')\n",
    "terminator = ComponentDefinition('B0012')\n",
    "\n",
    "# Define roles\n",
    "promoter.roles = SO_PROMOTER\n",
    "CDS.roles = SO_CDS\n",
    "RBS.roles = SO_RBS\n",
    "terminator.roles = SO_TERMINATOR\n",
    "\n",
    "# Add components\n",
    "doc.addComponentDefinition(gene)\n",
    "doc.addComponentDefinition([ promoter, CDS, RBS, terminator ])\n",
    "\n",
    "# Assembly\n",
    "gene.assemblePrimaryStructure([ promoter, RBS, CDS, terminator ])\n",
    "\n",
    "first = gene.getFirstComponent()\n",
    "print(first.identity)\n",
    "last = gene.getLastComponent()\n",
    "print(last.identity)\n",
    "\n",
    "#promoter.sequence = Sequence('R0010', 'ggctgca')\n",
    "#CDS.sequence = Sequence('B0032', 'aattatataaa')\n",
    "#RBS.sequence = Sequence('E0040', \"atgtaa\")\n",
    "#terminator.sequence = Sequence('B0012', 'attcga')\n",
    "\n",
    "#target_sequence = gene.compile()\n",
    "#print(gene.sequence.elements)\n",
    "\n",
    "#result = doc.write('gene_cassette.xml')\n",
    "#print(result)\n"
   ]
  },
  {
   "cell_type": "code",
   "execution_count": 3,
   "metadata": {},
   "outputs": [],
   "source": [
    "combo = CombinatorialDerivation()\n",
    "# Define a sample strategy: derive a subset\n",
    "combo.strategy = 'http://sbols.org/v2#sample'\n"
   ]
  },
  {
   "cell_type": "code",
   "execution_count": 23,
   "metadata": {},
   "outputs": [
    {
     "data": {
      "text/plain": [
       "'http://sbols.org/v2#sample'"
      ]
     },
     "execution_count": 23,
     "metadata": {},
     "output_type": "execute_result"
    }
   ],
   "source": [
    "combo.strategy"
   ]
  },
  {
   "cell_type": "code",
   "execution_count": 5,
   "metadata": {},
   "outputs": [],
   "source": [
    "doc.addCombinatorialDerivation(combo)"
   ]
  },
  {
   "cell_type": "code",
   "execution_count": 9,
   "metadata": {},
   "outputs": [],
   "source": [
    "var = VariableComponent()"
   ]
  },
  {
   "cell_type": "code",
   "execution_count": 10,
   "metadata": {},
   "outputs": [],
   "source": [
    "combo.variableComponents.add(var)"
   ]
  },
  {
   "cell_type": "code",
   "execution_count": 12,
   "metadata": {},
   "outputs": [
    {
     "name": "stdout",
     "output_type": "stream",
     "text": [
      "Attachment....................0\n",
      "Collection....................0\n",
      "CombinatorialDerivation.......1\n",
      "ComponentDefinition...........5\n",
      "Implementation................0\n",
      "Model.........................0\n",
      "ModuleDefinition..............0\n",
      "Sequence......................0\n",
      "Analysis......................0\n",
      "Build.........................0\n",
      "Design........................0\n",
      "SampleRoster..................0\n",
      "Test..........................0\n",
      "Activity......................0\n",
      "Agent.........................0\n",
      "Plan..........................0\n",
      "Annotation Objects............0\n",
      "---\n",
      "Total.........................6\n",
      "\n"
     ]
    }
   ],
   "source": [
    "print(doc)"
   ]
  },
  {
   "cell_type": "code",
   "execution_count": 87,
   "metadata": {},
   "outputs": [
    {
     "name": "stdout",
     "output_type": "stream",
     "text": [
      "Attachment....................0\n",
      "Collection....................0\n",
      "CombinatorialDerivation.......1\n",
      "ComponentDefinition...........1\n",
      "Implementation................0\n",
      "Model.........................0\n",
      "ModuleDefinition..............0\n",
      "Sequence......................0\n",
      "Analysis......................0\n",
      "Build.........................0\n",
      "Design........................0\n",
      "SampleRoster..................0\n",
      "Test..........................0\n",
      "Activity......................0\n",
      "Agent.........................0\n",
      "Plan..........................0\n",
      "Annotation Objects............0\n",
      "---\n",
      "Total.........................2\n",
      "\n"
     ]
    }
   ],
   "source": [
    "# A full test\n",
    "def varcomponents(label,n,role):\n",
    "    col = []\n",
    "    for i in range(0,n):\n",
    "        comp = Component( label+str(i) )\n",
    "        comp.roles = role\n",
    "        col.append( comp )\n",
    "    return col\n",
    "    \n",
    "design = []\n",
    "design.append( varcomponents( 'plasmid', 2, SO_CDS) )\n",
    "design.append( varcomponents( 'prom1', 4, SO_PROMOTER) )\n",
    "design.append( varcomponents( 'gene1', 2, SO_GENE) )\n",
    "design.append( varcomponents( 'term1', 1, SO_TERMINATOR) )\n",
    "design.append( varcomponents( 'prom2', 2, SO_PROMOTER) )\n",
    "design.append( varcomponents( 'gene2', 3, SO_GENE) )\n",
    "design.append( varcomponents( 'term2', 1, SO_TERMINATOR) )\n",
    "    \n",
    "comp = ComponentDefinition('library')\n",
    "for x in design:\n",
    "    for c in x:\n",
    "        comp.components.add(c)\n",
    "        \n",
    "combo = CombinatorialDerivation('combo')\n",
    "# Define a sample strategy: derive a subset\n",
    "combo.strategy = 'http://sbols.org/v2#sample'    \n",
    "var = VariableComponent('varcomp')\n",
    "var.setPropertyValue('http://sbols.org/v2#variants', comp.getTypeURI())\n",
    "combo.VariableComponent = var\n",
    "# Create a new SBOL document\n",
    "doc = Document()\n",
    "doc.addComponentDefinition(comp)\n",
    "doc.addCombinatorialDerivation(combo)\n",
    "\n",
    "print(doc)"
   ]
  },
  {
   "cell_type": "code",
   "execution_count": 86,
   "metadata": {
    "scrolled": true
   },
   "outputs": [
    {
     "ename": "AttributeError",
     "evalue": "type object 'object' has no attribute '__getattr__'",
     "output_type": "error",
     "traceback": [
      "\u001b[0;31m---------------------------------------------------------------------------\u001b[0m",
      "\u001b[0;31mAttributeError\u001b[0m                            Traceback (most recent call last)",
      "\u001b[0;32m<ipython-input-86-884519e87af4>\u001b[0m in \u001b[0;36m<module>\u001b[0;34m\u001b[0m\n\u001b[1;32m      1\u001b[0m \u001b[0mcombo\u001b[0m\u001b[0;34m.\u001b[0m\u001b[0mtemplate\u001b[0m \u001b[0;34m=\u001b[0m \u001b[0mcomp\u001b[0m\u001b[0;34m.\u001b[0m\u001b[0mgetTypeURI\u001b[0m\u001b[0;34m(\u001b[0m\u001b[0;34m)\u001b[0m\u001b[0;34m\u001b[0m\u001b[0m\n\u001b[0;32m----> 2\u001b[0;31m \u001b[0mcombo\u001b[0m\u001b[0;34m.\u001b[0m\u001b[0mgetTemplate\u001b[0m\u001b[0;34m(\u001b[0m\u001b[0;34m)\u001b[0m\u001b[0;34m\u001b[0m\u001b[0m\n\u001b[0m",
      "\u001b[0;32m~/anaconda2/envs/doe/lib/python3.6/site-packages/sbol/libsbol.py\u001b[0m in \u001b[0;36m<lambda>\u001b[0;34m(self, name)\u001b[0m\n\u001b[1;32m   6540\u001b[0m     \u001b[0;32mfor\u001b[0m \u001b[0m_s\u001b[0m \u001b[0;32min\u001b[0m \u001b[0;34m[\u001b[0m\u001b[0mTopLevel\u001b[0m\u001b[0;34m]\u001b[0m\u001b[0;34m:\u001b[0m\u001b[0;34m\u001b[0m\u001b[0m\n\u001b[1;32m   6541\u001b[0m         \u001b[0m__swig_getmethods__\u001b[0m\u001b[0;34m.\u001b[0m\u001b[0mupdate\u001b[0m\u001b[0;34m(\u001b[0m\u001b[0mgetattr\u001b[0m\u001b[0;34m(\u001b[0m\u001b[0m_s\u001b[0m\u001b[0;34m,\u001b[0m \u001b[0;34m'__swig_getmethods__'\u001b[0m\u001b[0;34m,\u001b[0m \u001b[0;34m{\u001b[0m\u001b[0;34m}\u001b[0m\u001b[0;34m)\u001b[0m\u001b[0;34m)\u001b[0m\u001b[0;34m\u001b[0m\u001b[0m\n\u001b[0;32m-> 6542\u001b[0;31m     \u001b[0m__getattr__\u001b[0m \u001b[0;34m=\u001b[0m \u001b[0;32mlambda\u001b[0m \u001b[0mself\u001b[0m\u001b[0;34m,\u001b[0m \u001b[0mname\u001b[0m\u001b[0;34m:\u001b[0m \u001b[0m_swig_getattr\u001b[0m\u001b[0;34m(\u001b[0m\u001b[0mself\u001b[0m\u001b[0;34m,\u001b[0m \u001b[0mCombinatorialDerivation\u001b[0m\u001b[0;34m,\u001b[0m \u001b[0mname\u001b[0m\u001b[0;34m)\u001b[0m\u001b[0;34m\u001b[0m\u001b[0m\n\u001b[0m\u001b[1;32m   6543\u001b[0m     \u001b[0m__repr__\u001b[0m \u001b[0;34m=\u001b[0m \u001b[0m_swig_repr\u001b[0m\u001b[0;34m\u001b[0m\u001b[0m\n\u001b[1;32m   6544\u001b[0m \u001b[0;34m\u001b[0m\u001b[0m\n",
      "\u001b[0;32m~/anaconda2/envs/doe/lib/python3.6/site-packages/sbol/libsbol.py\u001b[0m in \u001b[0;36m_swig_getattr\u001b[0;34m(self, class_type, name)\u001b[0m\n\u001b[1;32m     75\u001b[0m \u001b[0;34m\u001b[0m\u001b[0m\n\u001b[1;32m     76\u001b[0m \u001b[0;32mdef\u001b[0m \u001b[0m_swig_getattr\u001b[0m\u001b[0;34m(\u001b[0m\u001b[0mself\u001b[0m\u001b[0;34m,\u001b[0m \u001b[0mclass_type\u001b[0m\u001b[0;34m,\u001b[0m \u001b[0mname\u001b[0m\u001b[0;34m)\u001b[0m\u001b[0;34m:\u001b[0m\u001b[0;34m\u001b[0m\u001b[0m\n\u001b[0;32m---> 77\u001b[0;31m     \u001b[0;32mreturn\u001b[0m \u001b[0m_swig_getattr_nondynamic\u001b[0m\u001b[0;34m(\u001b[0m\u001b[0mself\u001b[0m\u001b[0;34m,\u001b[0m \u001b[0mclass_type\u001b[0m\u001b[0;34m,\u001b[0m \u001b[0mname\u001b[0m\u001b[0;34m,\u001b[0m \u001b[0;36m0\u001b[0m\u001b[0;34m)\u001b[0m\u001b[0;34m\u001b[0m\u001b[0m\n\u001b[0m\u001b[1;32m     78\u001b[0m \u001b[0;34m\u001b[0m\u001b[0m\n\u001b[1;32m     79\u001b[0m \u001b[0;34m\u001b[0m\u001b[0m\n",
      "\u001b[0;32m~/anaconda2/envs/doe/lib/python3.6/site-packages/sbol/libsbol.py\u001b[0m in \u001b[0;36m_swig_getattr_nondynamic\u001b[0;34m(self, class_type, name, static)\u001b[0m\n\u001b[1;32m     70\u001b[0m         \u001b[0;32mreturn\u001b[0m \u001b[0mmethod\u001b[0m\u001b[0;34m(\u001b[0m\u001b[0mself\u001b[0m\u001b[0;34m)\u001b[0m\u001b[0;34m\u001b[0m\u001b[0m\n\u001b[1;32m     71\u001b[0m     \u001b[0;32mif\u001b[0m \u001b[0;34m(\u001b[0m\u001b[0;32mnot\u001b[0m \u001b[0mstatic\u001b[0m\u001b[0;34m)\u001b[0m\u001b[0;34m:\u001b[0m\u001b[0;34m\u001b[0m\u001b[0m\n\u001b[0;32m---> 72\u001b[0;31m         \u001b[0;32mreturn\u001b[0m \u001b[0mobject\u001b[0m\u001b[0;34m.\u001b[0m\u001b[0m__getattr__\u001b[0m\u001b[0;34m(\u001b[0m\u001b[0mself\u001b[0m\u001b[0;34m,\u001b[0m \u001b[0mname\u001b[0m\u001b[0;34m)\u001b[0m\u001b[0;34m\u001b[0m\u001b[0m\n\u001b[0m\u001b[1;32m     73\u001b[0m     \u001b[0;32melse\u001b[0m\u001b[0;34m:\u001b[0m\u001b[0;34m\u001b[0m\u001b[0m\n\u001b[1;32m     74\u001b[0m         \u001b[0;32mraise\u001b[0m \u001b[0mAttributeError\u001b[0m\u001b[0;34m(\u001b[0m\u001b[0mname\u001b[0m\u001b[0;34m)\u001b[0m\u001b[0;34m\u001b[0m\u001b[0m\n",
      "\u001b[0;31mAttributeError\u001b[0m: type object 'object' has no attribute '__getattr__'"
     ]
    }
   ],
   "source": [
    "combo.template = comp.getTypeURI()\n",
    "combo.getTemplate()"
   ]
  },
  {
   "cell_type": "code",
   "execution_count": 78,
   "metadata": {},
   "outputs": [],
   "source": [
    "\n",
    "\n",
    "comp = ComponentDefinition('library')\n",
    "# Create several components \n",
    "gene = Component('gene1')\n",
    "promoter = Component('R0010')\n",
    "CDS = Component('B0032')\n",
    "RBS = Component('E0040')\n",
    "terminator = Component('B0012')\n",
    "\n",
    "# Define roles\n",
    "promoter.roles = SO_PROMOTER\n",
    "CDS.roles = SO_CDS\n",
    "RBS.roles = SO_RBS\n",
    "terminator.roles = SO_TERMINATOR\n",
    "\n",
    "comp.components.add(gene)\n",
    "comp.components.add(promoter)\n",
    "comp.components.add(CDS)\n",
    "comp.components.add(RBS)\n",
    "comp.components.add(terminator)\n",
    "\n",
    "combo = CombinatorialDerivation('combo')\n",
    "# Define a sample strategy: derive a subset\n",
    "combo.strategy = 'http://sbols.org/v2#sample'\n",
    "\n"
   ]
  },
  {
   "cell_type": "code",
   "execution_count": 37,
   "metadata": {},
   "outputs": [
    {
     "name": "stdout",
     "output_type": "stream",
     "text": [
      "http://synbiochem.co.uk/ComponentDefinition/library/gene1/1.0.0\n"
     ]
    }
   ],
   "source": [
    "print(comp.components.getAll()[0])"
   ]
  },
  {
   "cell_type": "code",
   "execution_count": 29,
   "metadata": {},
   "outputs": [],
   "source": [
    "gc = Component('gene3')"
   ]
  },
  {
   "cell_type": "code",
   "execution_count": 30,
   "metadata": {
    "scrolled": true
   },
   "outputs": [
    {
     "data": {
      "text/plain": [
       "['PythonObjects',\n",
       " '__class__',\n",
       " '__del__',\n",
       " '__delattr__',\n",
       " '__dict__',\n",
       " '__dir__',\n",
       " '__doc__',\n",
       " '__eq__',\n",
       " '__format__',\n",
       " '__ge__',\n",
       " '__getattr__',\n",
       " '__getattribute__',\n",
       " '__gt__',\n",
       " '__hash__',\n",
       " '__init__',\n",
       " '__init_subclass__',\n",
       " '__le__',\n",
       " '__lt__',\n",
       " '__module__',\n",
       " '__ne__',\n",
       " '__new__',\n",
       " '__reduce__',\n",
       " '__reduce_ex__',\n",
       " '__repr__',\n",
       " '__setattr__',\n",
       " '__setattribute__',\n",
       " '__sizeof__',\n",
       " '__str__',\n",
       " '__subclasshook__',\n",
       " '__swig_destroy__',\n",
       " '__swig_getmethods__',\n",
       " '__swig_setmethods__',\n",
       " '__weakref__',\n",
       " '_s',\n",
       " 'access',\n",
       " 'addPropertyValue',\n",
       " 'cast',\n",
       " 'compare',\n",
       " 'definition',\n",
       " 'description',\n",
       " 'displayId',\n",
       " 'doc',\n",
       " 'find',\n",
       " 'find_property',\n",
       " 'find_property_value',\n",
       " 'find_reference',\n",
       " 'getAnnotation',\n",
       " 'getClassName',\n",
       " 'getProperties',\n",
       " 'getPropertyValue',\n",
       " 'getPropertyValues',\n",
       " 'getTypeURI',\n",
       " 'identity',\n",
       " 'mapsTos',\n",
       " 'name',\n",
       " 'parent',\n",
       " 'persistentIdentity',\n",
       " 'register_extension_class',\n",
       " 'roleIntegration',\n",
       " 'roles',\n",
       " 'setAnnotation',\n",
       " 'setPropertyValue',\n",
       " 'this',\n",
       " 'type',\n",
       " 'update_uri',\n",
       " 'version',\n",
       " 'wasDerivedFrom',\n",
       " 'wasGeneratedBy']"
      ]
     },
     "execution_count": 30,
     "metadata": {},
     "output_type": "execute_result"
    }
   ],
   "source": [
    "dir(gc)"
   ]
  },
  {
   "cell_type": "code",
   "execution_count": null,
   "metadata": {},
   "outputs": [],
   "source": []
  }
 ],
 "metadata": {
  "kernelspec": {
   "display_name": "Python 3",
   "language": "python",
   "name": "python3"
  },
  "language_info": {
   "codemirror_mode": {
    "name": "ipython",
    "version": 3
   },
   "file_extension": ".py",
   "mimetype": "text/x-python",
   "name": "python",
   "nbconvert_exporter": "python",
   "pygments_lexer": "ipython3",
   "version": "3.6.6"
  }
 },
 "nbformat": 4,
 "nbformat_minor": 2
}
