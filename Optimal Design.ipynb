{
 "cells": [
  {
   "cell_type": "markdown",
   "metadata": {},
   "source": [
    "Evaluate experimental design using D-Efficiency.\n",
    "\n",
    "**Definitions**:\n",
    "\n",
    "$\\mathbf{X}$ is the model matrix: A row for each run and a column for each term in the model.\n",
    "\n",
    "For instance, a model assuming only main effects:\n",
    "\n",
    "$\\mathbf{Y} = \\mathbf{X} \\beta + \\alpha$\n",
    "\n",
    "$\\mathbf{X}$ will contain $p = m + 1$ columns (number of factors + intercept).\n",
    "\n",
    "\n",
    "D-optimality:\n",
    "\n",
    "\n",
    "*D-efficiency* $=  \\left(\\frac{1}{n}|\\mathbf{X}'\\mathbf{X}|^{1/p}\\right)$\n",
    "\n",
    "**D-efficiency**\n",
    "\n",
    "D-efficiency compares the design $\\mathbf{X}$ with the D-optmial design $\\mathbf{X_D}$ for the assumed model: \n",
    "\n",
    "*D-efficiency* $= \\left[ \\frac{|\\mathbf{X}'\\mathbf{X}|}{|\\mathbf{X_D}'\\mathbf{X_D}|} \\right]^{1/p}$\n",
    "\n",
    "\n",
    "In JMP, the D-efficiency compares the design with an orthogonal design in terms of D-optimality criterion:\n",
    "\n",
    "*D-efficiency* $= 100 \\left(\\frac{1}{n}|\\mathbf{X}'\\mathbf{X}|^{1/p}\\right)$\n",
    "\n",
    "**Designs**\n",
    "\n",
    "D-optimal designs maximize $D$:\n",
    "\n",
    "$D  = |\\mathbf{X}'\\mathbf{X}|$\n",
    "\n",
    "(no need for the other terms because they are constant)\n",
    "\n",
    "D-optimal split-plot designs maximize:\n",
    "\n",
    "$D  = |\\mathbf{X}'\\mathbf{V}^{-1}\\mathbf{X}|$\n",
    "\n",
    "where $\\mathbf{V}^{-1}$ is the block diagonal covariance matrix of the responses.\n",
    "\n",
    "Split-plot designs are those that some factors are harder to vary than others. The covariance indiciates the ratio between the whole variance and the subplot variance to the error variance. \n",
    "\n",
    "**Estimation efficiency**\n",
    "\n",
    "There are several parameters (see JMP guide), but they are related. The basic is the relateive std error to estimate, i.e., how large the standard errors of the model's parameter estimates are relative to the error standard deviation.\n",
    "\n",
    "*SE* $= \\sqrt{\\left(\\mathbf{X}'\\mathbf{X}\\right)_{ii}^{-1}}$\n",
    "\n",
    "where $\\left(\\mathbf{X}'\\mathbf{X}\\right)_{ii}^{-1}$ is the $i$ diagonal of $\\left(\\mathbf{X}'\\mathbf{X}\\right)^{-1}$."
   ]
  },
  {
   "cell_type": "markdown",
   "metadata": {},
   "source": [
    "# Example\n",
    "\n",
    "An example for 2-factor model with main effects:"
   ]
  },
  {
   "cell_type": "code",
   "execution_count": 1,
   "metadata": {},
   "outputs": [],
   "source": [
    "import numpy as np"
   ]
  },
  {
   "cell_type": "code",
   "execution_count": 2,
   "metadata": {},
   "outputs": [],
   "source": [
    "X1 = np.matrix( \"[1 1 1; 1 -1 1; 1 -1 -1]\")\n",
    "X1"
   ]
  },
  {
   "cell_type": "code",
   "execution_count": 108,
   "metadata": {},
   "outputs": [],
   "source": [
    "def Deff(X):\n",
    "    # D-efficiency\n",
    "    return 100.0/X1.shape[0] * ( np.linalg.det( np.dot( np.transpose( X ), X ) )**(1.0/X1.shape[1]))\n",
    "def Dopt(X):\n",
    "    # D-optimality\n",
    "    return np.linalg.det( np.dot( np.transpose( X ), X ) )\n",
    "def SE(X):\n",
    "    # Estimation efficiency\n",
    "    return np.diag( np.linalg.inv( np.dot( np.transpose( X ), X ) ) )\n",
    "def Contrib(X):\n",
    "    cn = []\n",
    "    for i in range(0, X.shape[0]):\n",
    "        cn.append( Dopt( np.vstack( [X[:i,:], X[i:,:]]  )  ) )\n",
    "    return cn\n",
    "    "
   ]
  },
  {
   "cell_type": "code",
   "execution_count": 107,
   "metadata": {},
   "outputs": [
    {
     "data": {
      "text/plain": [
       "-8.881784197001202e-14"
      ]
     },
     "execution_count": 107,
     "metadata": {},
     "output_type": "execute_result"
    }
   ],
   "source": [
    "Dopt( np.vstack( [X[:i,:], X[i:,:]]  )   )"
   ]
  },
  {
   "cell_type": "code",
   "execution_count": 109,
   "metadata": {},
   "outputs": [
    {
     "data": {
      "text/plain": [
       "[-8.881784197001202e-14,\n",
       " -8.881784197001202e-14,\n",
       " -8.881784197001202e-14,\n",
       " -8.881784197001202e-14,\n",
       " -8.881784197001202e-14,\n",
       " -8.881784197001202e-14,\n",
       " -8.881784197001202e-14,\n",
       " -8.881784197001202e-14,\n",
       " -8.881784197001202e-14,\n",
       " -8.881784197001202e-14]"
      ]
     },
     "execution_count": 109,
     "metadata": {},
     "output_type": "execute_result"
    }
   ],
   "source": [
    "Contrib(X1)"
   ]
  },
  {
   "cell_type": "code",
   "execution_count": 13,
   "metadata": {},
   "outputs": [
    {
     "data": {
      "text/plain": [
       "array([0.5, 0.5, 0.5])"
      ]
     },
     "execution_count": 13,
     "metadata": {},
     "output_type": "execute_result"
    }
   ],
   "source": [
    "SE(X1)"
   ]
  },
  {
   "cell_type": "markdown",
   "metadata": {},
   "source": [
    "# Algorithm"
   ]
  },
  {
   "cell_type": "code",
   "execution_count": 160,
   "metadata": {},
   "outputs": [
    {
     "name": "stdout",
     "output_type": "stream",
     "text": [
      "1 69.00000000000001 20.252323149955778 69.00000000000001 192.0 0 4\n",
      "2 192.0 24.018739103520055 192.0 311.9999999999998 0 1\n",
      "4 311.9999999999998 21.720253176048686 104.99999999999987 311.9999999999998 0 4\n",
      "6 311.9999999999998 21.720253176048686 104.99999999999987 311.9999999999998 0 4\n",
      "8 311.9999999999998 21.720253176048686 104.99999999999987 311.9999999999998 0 4\n",
      "10 311.9999999999998 21.720253176048686 104.99999999999987 311.9999999999998 0 4\n",
      "12 311.9999999999998 21.720253176048686 104.99999999999987 311.9999999999998 0 4\n",
      "14 311.9999999999998 21.720253176048686 104.99999999999987 311.9999999999998 0 4\n",
      "16 311.9999999999998 21.720253176048686 104.99999999999987 311.9999999999998 0 4\n",
      "18 311.9999999999998 21.720253176048686 104.99999999999987 311.9999999999998 0 4\n",
      "20 311.9999999999998 21.720253176048686 104.99999999999987 311.9999999999998 0 4\n",
      "22 311.9999999999998 21.720253176048686 104.99999999999987 311.9999999999998 0 4\n",
      "24 311.9999999999998 21.720253176048686 104.99999999999987 311.9999999999998 0 4\n",
      "26 311.9999999999998 21.720253176048686 104.99999999999987 311.9999999999998 0 4\n",
      "28 311.9999999999998 21.720253176048686 104.99999999999987 311.9999999999998 0 4\n",
      "30 311.9999999999998 21.720253176048686 104.99999999999987 311.9999999999998 0 4\n",
      "32 311.9999999999998 21.720253176048686 104.99999999999987 311.9999999999998 0 4\n",
      "34 311.9999999999998 21.720253176048686 104.99999999999987 311.9999999999998 0 4\n",
      "36 311.9999999999998 21.720253176048686 104.99999999999987 311.9999999999998 0 4\n",
      "38 311.9999999999998 21.720253176048686 104.99999999999987 311.9999999999998 0 4\n",
      "40 311.9999999999998 21.720253176048686 104.99999999999987 311.9999999999998 0 4\n",
      "42 311.9999999999998 21.720253176048686 104.99999999999987 311.9999999999998 0 4\n",
      "44 311.9999999999998 21.720253176048686 104.99999999999987 311.9999999999998 0 4\n",
      "46 311.9999999999998 21.720253176048686 104.99999999999987 311.9999999999998 0 4\n",
      "48 311.9999999999998 21.720253176048686 104.99999999999987 311.9999999999998 0 4\n",
      "50 311.9999999999998 21.720253176048686 104.99999999999987 311.9999999999998 0 4\n",
      "52 311.9999999999998 21.720253176048686 104.99999999999987 311.9999999999998 0 4\n",
      "54 311.9999999999998 21.720253176048686 104.99999999999987 311.9999999999998 0 4\n",
      "56 311.9999999999998 21.720253176048686 104.99999999999987 311.9999999999998 0 4\n",
      "58 311.9999999999998 21.720253176048686 104.99999999999987 311.9999999999998 0 4\n",
      "60 311.9999999999998 21.720253176048686 104.99999999999987 311.9999999999998 0 4\n",
      "62 311.9999999999998 21.720253176048686 104.99999999999987 311.9999999999998 0 4\n",
      "64 311.9999999999998 21.720253176048686 104.99999999999987 311.9999999999998 0 4\n",
      "66 311.9999999999998 21.720253176048686 104.99999999999987 311.9999999999998 0 4\n",
      "68 311.9999999999998 21.720253176048686 104.99999999999987 311.9999999999998 0 4\n",
      "70 311.9999999999998 21.720253176048686 104.99999999999987 311.9999999999998 0 4\n",
      "72 311.9999999999998 21.720253176048686 104.99999999999987 311.9999999999998 0 4\n",
      "74 311.9999999999998 21.720253176048686 104.99999999999987 311.9999999999998 0 4\n",
      "76 311.9999999999998 21.720253176048686 104.99999999999987 311.9999999999998 0 4\n",
      "78 311.9999999999998 21.720253176048686 104.99999999999987 311.9999999999998 0 4\n",
      "80 311.9999999999998 21.720253176048686 104.99999999999987 311.9999999999998 0 4\n",
      "82 311.9999999999998 21.720253176048686 104.99999999999987 311.9999999999998 0 4\n",
      "84 311.9999999999998 21.720253176048686 104.99999999999987 311.9999999999998 0 4\n",
      "86 311.9999999999998 21.720253176048686 104.99999999999987 311.9999999999998 0 4\n",
      "88 311.9999999999998 21.720253176048686 104.99999999999987 311.9999999999998 0 4\n",
      "90 311.9999999999998 21.720253176048686 104.99999999999987 311.9999999999998 0 4\n",
      "92 311.9999999999998 21.720253176048686 104.99999999999987 311.9999999999998 0 4\n",
      "94 311.9999999999998 21.720253176048686 104.99999999999987 311.9999999999998 0 4\n",
      "96 311.9999999999998 21.720253176048686 104.99999999999987 311.9999999999998 0 4\n",
      "98 311.9999999999998 21.720253176048686 104.99999999999987 311.9999999999998 0 4\n",
      "100 311.9999999999998 21.720253176048686 104.99999999999987 311.9999999999998 0 4\n"
     ]
    }
   ],
   "source": [
    "p = 5 # Number of factors\n",
    "n = 10 # Number of runs\n",
    "# Initial design\n",
    "X = np.random.randint(0,2,(n,p+1))\n",
    "J = 0\n",
    "w = 0\n",
    "while ( (J < 1e4) and (w < 100) ):\n",
    "    d2 = None\n",
    "    d6 = None\n",
    "    w += 1\n",
    "    try:\n",
    "        d1 = Deff( X )\n",
    "        d2 = Dopt( X )\n",
    "        d3 = SE( X )\n",
    "        d4 = Contrib( X )\n",
    "    except:\n",
    "        continue\n",
    "    J = max(J, d2)\n",
    "    i = np.argmin( d4 )\n",
    "    j = np.argmax( d3 )\n",
    "    X1 = X\n",
    " \n",
    "    if X[i,j] == 0:\n",
    "        X1[i,j] = 1\n",
    "    else:\n",
    "        X1[i,j] = 0\n",
    "    try:\n",
    "        d5 = Deff( X1 )\n",
    "        d6 = Dopt( X1 )\n",
    "        d7 = SE( X1 )\n",
    "        d8 = Contrib( X1 )\n",
    "  \n",
    "    except:\n",
    "        continue\n",
    "    if d6 > d2:\n",
    "        X = X1\n",
    "        print(w,J,d1,d2,d6,i,j)\n",
    "    \n",
    "    "
   ]
  },
  {
   "cell_type": "code",
   "execution_count": 155,
   "metadata": {},
   "outputs": [
    {
     "data": {
      "text/plain": [
       "125.99999999999989"
      ]
     },
     "execution_count": 155,
     "metadata": {},
     "output_type": "execute_result"
    }
   ],
   "source": [
    "Dopt(X)"
   ]
  },
  {
   "cell_type": "code",
   "execution_count": 161,
   "metadata": {},
   "outputs": [
    {
     "data": {
      "text/plain": [
       "(104.99999999999987, 311.9999999999998)"
      ]
     },
     "execution_count": 161,
     "metadata": {},
     "output_type": "execute_result"
    }
   ],
   "source": [
    "(d2, d6)"
   ]
  },
  {
   "cell_type": "code",
   "execution_count": 56,
   "metadata": {},
   "outputs": [
    {
     "data": {
      "text/plain": [
       "array([[2, 0, 1, 2],\n",
       "       [0, 0, 0, 0],\n",
       "       [1, 0, 1, 1],\n",
       "       [2, 0, 1, 2]])"
      ]
     },
     "execution_count": 56,
     "metadata": {},
     "output_type": "execute_result"
    }
   ],
   "source": [
    " np.dot( np.transpose( X), np.array( X ) ) "
   ]
  },
  {
   "cell_type": "code",
   "execution_count": 36,
   "metadata": {},
   "outputs": [
    {
     "data": {
      "text/plain": [
       "array([[1, 1, 1, 0, 1, 0, 1, 0, 1, 1, 1, 1, 1, 0, 0, 1, 1, 0, 1, 1, 1, 1,\n",
       "        0, 1],\n",
       "       [0, 0, 0, 0, 0, 0, 1, 0, 1, 1, 0, 1, 0, 1, 0, 0, 1, 1, 0, 0, 0, 0,\n",
       "        1, 0],\n",
       "       [1, 0, 0, 0, 1, 0, 0, 0, 0, 1, 0, 1, 1, 0, 1, 1, 0, 1, 0, 0, 1, 1,\n",
       "        1, 1],\n",
       "       [1, 1, 1, 0, 1, 0, 1, 0, 1, 1, 0, 1, 1, 0, 1, 1, 1, 1, 0, 0, 1, 1,\n",
       "        0, 1],\n",
       "       [0, 0, 1, 0, 1, 1, 1, 1, 1, 1, 1, 0, 0, 0, 1, 1, 1, 1, 0, 1, 0, 1,\n",
       "        1, 0],\n",
       "       [1, 1, 0, 1, 0, 0, 1, 1, 1, 1, 0, 1, 0, 0, 1, 0, 0, 1, 1, 0, 1, 0,\n",
       "        1, 1],\n",
       "       [1, 1, 1, 1, 0, 0, 1, 0, 0, 0, 1, 1, 0, 0, 1, 0, 0, 1, 1, 0, 0, 1,\n",
       "        1, 0],\n",
       "       [1, 1, 0, 1, 1, 1, 0, 1, 0, 0, 1, 1, 0, 1, 0, 0, 1, 0, 0, 1, 1, 0,\n",
       "        1, 1],\n",
       "       [1, 0, 1, 0, 0, 0, 1, 1, 1, 0, 0, 0, 0, 1, 0, 0, 1, 1, 0, 1, 0, 0,\n",
       "        0, 0],\n",
       "       [0, 1, 0, 0, 1, 1, 0, 1, 0, 0, 1, 1, 1, 1, 0, 0, 1, 0, 0, 0, 1, 1,\n",
       "        0, 0],\n",
       "       [0, 0, 1, 1, 0, 0, 0, 1, 0, 0, 0, 1, 1, 0, 0, 0, 0, 1, 0, 0, 0, 0,\n",
       "        1, 0]])"
      ]
     },
     "execution_count": 36,
     "metadata": {},
     "output_type": "execute_result"
    }
   ],
   "source": [
    "np.transpose( X )"
   ]
  },
  {
   "cell_type": "code",
   "execution_count": 31,
   "metadata": {},
   "outputs": [
    {
     "data": {
      "text/plain": [
       "array([[1, 0, 1, 1, 0, 1, 1, 1, 1, 0, 0],\n",
       "       [1, 0, 0, 1, 0, 1, 1, 1, 0, 1, 0],\n",
       "       [1, 0, 0, 1, 1, 0, 1, 0, 1, 0, 1],\n",
       "       [0, 0, 0, 0, 0, 1, 1, 1, 0, 0, 1],\n",
       "       [1, 0, 1, 1, 1, 0, 0, 1, 0, 1, 0],\n",
       "       [0, 0, 0, 0, 1, 0, 0, 1, 0, 1, 0],\n",
       "       [1, 1, 0, 1, 1, 1, 1, 0, 1, 0, 0],\n",
       "       [0, 0, 0, 0, 1, 1, 0, 1, 1, 1, 1],\n",
       "       [1, 1, 0, 1, 1, 1, 0, 0, 1, 0, 0],\n",
       "       [1, 1, 1, 1, 1, 1, 0, 0, 0, 0, 0],\n",
       "       [1, 0, 0, 0, 1, 0, 1, 1, 0, 1, 0],\n",
       "       [1, 1, 1, 1, 0, 1, 1, 1, 0, 1, 1],\n",
       "       [1, 0, 1, 1, 0, 0, 0, 0, 0, 1, 1],\n",
       "       [0, 1, 0, 0, 0, 0, 0, 1, 1, 1, 0],\n",
       "       [0, 0, 1, 1, 1, 1, 1, 0, 0, 0, 0],\n",
       "       [1, 0, 1, 1, 1, 0, 0, 0, 0, 0, 0],\n",
       "       [1, 1, 0, 1, 1, 0, 0, 1, 1, 1, 0],\n",
       "       [0, 1, 1, 1, 1, 1, 1, 0, 1, 0, 1],\n",
       "       [1, 0, 0, 0, 0, 1, 1, 0, 0, 0, 0],\n",
       "       [1, 0, 0, 0, 1, 0, 0, 1, 1, 0, 0],\n",
       "       [1, 0, 1, 1, 0, 1, 0, 1, 0, 1, 0],\n",
       "       [1, 0, 1, 1, 1, 0, 1, 0, 0, 1, 0],\n",
       "       [0, 1, 1, 0, 1, 1, 1, 1, 0, 0, 1],\n",
       "       [1, 0, 1, 1, 0, 1, 0, 1, 0, 0, 0]])"
      ]
     },
     "execution_count": 31,
     "metadata": {},
     "output_type": "execute_result"
    }
   ],
   "source": [
    "X"
   ]
  },
  {
   "cell_type": "code",
   "execution_count": null,
   "metadata": {},
   "outputs": [],
   "source": []
  }
 ],
 "metadata": {
  "kernelspec": {
   "display_name": "Python 3",
   "language": "python",
   "name": "python3"
  },
  "language_info": {
   "codemirror_mode": {
    "name": "ipython",
    "version": 3
   },
   "file_extension": ".py",
   "mimetype": "text/x-python",
   "name": "python",
   "nbconvert_exporter": "python",
   "pygments_lexer": "ipython3",
   "version": "3.6.6"
  }
 },
 "nbformat": 4,
 "nbformat_minor": 2
}
