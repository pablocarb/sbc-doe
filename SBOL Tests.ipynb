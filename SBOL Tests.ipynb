{
 "cells": [
  {
   "cell_type": "markdown",
   "metadata": {},
   "source": [
    "Use `SBOL` to represent the combinatorial library."
   ]
  },
  {
   "cell_type": "code",
   "execution_count": 3,
   "metadata": {},
   "outputs": [],
   "source": [
    "from sbol import *\n",
    "\n",
    "# Set default namespace\n",
    "namespace = \"http://synbiochem.co.uk\"\n",
    "setHomespace( namespace )\n",
    "\n",
    "# Create a new SBOL document\n",
    "doc = Document()\n"
   ]
  },
  {
   "cell_type": "code",
   "execution_count": 4,
   "metadata": {},
   "outputs": [
    {
     "name": "stdout",
     "output_type": "stream",
     "text": [
      "http://synbiochem.co.uk/ComponentDefinition/gene_example/R0010_0/1.0.0\n",
      "http://synbiochem.co.uk/ComponentDefinition/gene_example/B0012_0/1.0.0\n"
     ]
    }
   ],
   "source": [
    "doc = Document()\n",
    "# Create several components \n",
    "gene = ComponentDefinition('gene_example')\n",
    "promoter = ComponentDefinition('R0010')\n",
    "CDS = ComponentDefinition('B0032')\n",
    "RBS = ComponentDefinition('E0040')\n",
    "terminator = ComponentDefinition('B0012')\n",
    "\n",
    "# Define roles\n",
    "promoter.roles = SO_PROMOTER\n",
    "CDS.roles = SO_CDS\n",
    "RBS.roles = SO_RBS\n",
    "terminator.roles = SO_TERMINATOR\n",
    "\n",
    "# Add components\n",
    "doc.addComponentDefinition(gene)\n",
    "doc.addComponentDefinition([ promoter, CDS, RBS, terminator ])\n",
    "\n",
    "# Assembly\n",
    "gene.assemblePrimaryStructure([ promoter, RBS, CDS, terminator ])\n",
    "\n",
    "first = gene.getFirstComponent()\n",
    "print(first.identity)\n",
    "last = gene.getLastComponent()\n",
    "print(last.identity)\n",
    "\n",
    "#promoter.sequence = Sequence('R0010', 'ggctgca')\n",
    "#CDS.sequence = Sequence('B0032', 'aattatataaa')\n",
    "#RBS.sequence = Sequence('E0040', \"atgtaa\")\n",
    "#terminator.sequence = Sequence('B0012', 'attcga')\n",
    "\n",
    "#target_sequence = gene.compile()\n",
    "#print(gene.sequence.elements)\n",
    "\n",
    "#result = doc.write('gene_cassette.xml')\n",
    "#print(result)\n"
   ]
  },
  {
   "cell_type": "code",
   "execution_count": 5,
   "metadata": {},
   "outputs": [],
   "source": [
    "combo = CombinatorialDerivation()\n",
    "# Define a sample strategy: derive a subset\n",
    "combo.strategy = 'http://sbols.org/v2#sample'\n"
   ]
  },
  {
   "cell_type": "code",
   "execution_count": 6,
   "metadata": {},
   "outputs": [
    {
     "data": {
      "text/plain": [
       "'http://sbols.org/v2#sample'"
      ]
     },
     "execution_count": 6,
     "metadata": {},
     "output_type": "execute_result"
    }
   ],
   "source": [
    "combo.strategy"
   ]
  },
  {
   "cell_type": "code",
   "execution_count": 7,
   "metadata": {},
   "outputs": [],
   "source": [
    "doc.addCombinatorialDerivation(combo)"
   ]
  },
  {
   "cell_type": "code",
   "execution_count": 8,
   "metadata": {},
   "outputs": [],
   "source": [
    "var = VariableComponent()"
   ]
  },
  {
   "cell_type": "code",
   "execution_count": 9,
   "metadata": {},
   "outputs": [],
   "source": [
    "combo.variableComponents.add(var)"
   ]
  },
  {
   "cell_type": "code",
   "execution_count": 10,
   "metadata": {},
   "outputs": [
    {
     "name": "stdout",
     "output_type": "stream",
     "text": [
      "Attachment....................0\n",
      "Collection....................0\n",
      "CombinatorialDerivation.......1\n",
      "ComponentDefinition...........5\n",
      "Implementation................0\n",
      "Model.........................0\n",
      "ModuleDefinition..............0\n",
      "Sequence......................0\n",
      "Analysis......................0\n",
      "Build.........................0\n",
      "Design........................0\n",
      "SampleRoster..................0\n",
      "Test..........................0\n",
      "Activity......................0\n",
      "Agent.........................0\n",
      "Plan..........................0\n",
      "Annotation Objects............0\n",
      "---\n",
      "Total.........................6\n",
      "\n"
     ]
    }
   ],
   "source": [
    "print(doc)"
   ]
  },
  {
   "cell_type": "code",
   "execution_count": 11,
   "metadata": {},
   "outputs": [
    {
     "name": "stdout",
     "output_type": "stream",
     "text": [
      "Attachment....................0\n",
      "Collection....................0\n",
      "CombinatorialDerivation.......1\n",
      "ComponentDefinition...........1\n",
      "Implementation................0\n",
      "Model.........................0\n",
      "ModuleDefinition..............0\n",
      "Sequence......................0\n",
      "Analysis......................0\n",
      "Build.........................0\n",
      "Design........................0\n",
      "SampleRoster..................0\n",
      "Test..........................0\n",
      "Activity......................0\n",
      "Agent.........................0\n",
      "Plan..........................0\n",
      "Annotation Objects............0\n",
      "---\n",
      "Total.........................2\n",
      "\n"
     ]
    }
   ],
   "source": [
    "# A full test\n",
    "def varcomponents(label,n,role):\n",
    "    col = []\n",
    "    for i in range(0,n):\n",
    "        comp = Component( label+str(i) )\n",
    "        comp.roles = role\n",
    "        col.append( comp )\n",
    "    return col\n",
    "    \n",
    "design = []\n",
    "design.append( varcomponents( 'plasmid', 2, SO_CDS) )\n",
    "design.append( varcomponents( 'prom1', 4, SO_PROMOTER) )\n",
    "design.append( varcomponents( 'gene1', 2, SO_GENE) )\n",
    "design.append( varcomponents( 'term1', 1, SO_TERMINATOR) )\n",
    "design.append( varcomponents( 'prom2', 2, SO_PROMOTER) )\n",
    "design.append( varcomponents( 'gene2', 3, SO_GENE) )\n",
    "design.append( varcomponents( 'term2', 1, SO_TERMINATOR) )\n",
    "    \n",
    "comp = ComponentDefinition('library')\n",
    "for x in design:\n",
    "    for c in x:\n",
    "        comp.components.add(c)\n",
    "        \n",
    "combo = CombinatorialDerivation('combo')\n",
    "# Define a sample strategy: derive a subset\n",
    "combo.strategy = 'http://sbols.org/v2#sample'    \n",
    "var = VariableComponent('varcomp')\n",
    "var.setPropertyValue('http://sbols.org/v2#variants', comp.getTypeURI())\n",
    "combo.VariableComponent = var\n",
    "# Create a new SBOL document\n",
    "doc = Document()\n",
    "doc.addComponentDefinition(comp)\n",
    "doc.addCombinatorialDerivation(combo)\n",
    "\n",
    "print(doc)"
   ]
  },
  {
   "cell_type": "code",
   "execution_count": 36,
   "metadata": {},
   "outputs": [],
   "source": [
    "# Example based on https://github.com/SynBioDex/SEPs/blob/master/sep_007.md\n",
    "\n",
    "\"\"\"\n",
    "gfp_reporter_template : ComponentDefinition\n",
    "  description = \"An abstract GFP reporter\"\n",
    "  component : Component\n",
    "    identity = p1_template\n",
    "    definition = abstract_glucose-sensitive_promoter\n",
    "  component : Component\n",
    "    identity = r1_template\n",
    "    definition = elowitz_rbs\n",
    "  component : Component\n",
    "    identity = c1_template\n",
    "    definition = abstract_gfp\n",
    "  component : Component\n",
    "    identity = t1_template\n",
    "    definition = double_terminator\n",
    "  sequenceConstraint = p1_template precedes r1_template\n",
    "  sequenceConstraint = r1_template precedes c1_template\n",
    "  sequenceConstraint = c1_template precedes t1_template\n",
    "\n",
    "\"\"\"\n",
    "\n",
    "gfp_reporter_template = ComponentDefinition(\"gfp_reporter_template\")\n",
    "gfp_reporter_template.description = \"An abstract GFP reporter\"\n",
    "p1_template = Component(\"p1_template\")\n",
    "p1_template.description = \"abstract_glucose-sensitive_promoter\"\n",
    "r1_template = Component(\"r1_template\")\n",
    "r1_template.description = \"elowitz_rbs\"\n",
    "c1_template = Component(\"c1_template\")\n",
    "c1_template.description = \"abstract_gfp\"\n",
    "t1_template = Component(\"t1_template\")\n",
    "t1_template.description = \"double_terminator\"\n",
    "sc1 = SequenceConstraint(\"sc1\", \"p1_template\", \"r1_template\", SBOL_RESTRICTION_PRECEDES)\n",
    "sc2 = SequenceConstraint(\"sc2\", \"r1_template\", \"c1_template\", SBOL_RESTRICTION_PRECEDES)\n",
    "sc3 = SequenceConstraint(\"sc3\", \"c1_template\", \"t1_template\", SBOL_RESTRICTION_PRECEDES)\n",
    "\n",
    "\n",
    "gfp_reporter_template.components.add(p1_template)\n",
    "gfp_reporter_template.components.add(r1_template)\n",
    "gfp_reporter_template.components.add(c1_template)\n",
    "gfp_reporter_template.components.add(t1_template)\n",
    "\n",
    "gfp_reporter_template.sequenceConstraints.add(sc1)\n",
    "gfp_reporter_template.sequenceConstraints.add(sc2)\n",
    "gfp_reporter_template.sequenceConstraints.add(sc3)"
   ]
  },
  {
   "cell_type": "code",
   "execution_count": 96,
   "metadata": {},
   "outputs": [],
   "source": [
    "\"\"\"\n",
    "glucose-sensitive_promoter1 : ComponentDefinition\n",
    "  description = \"Glucose-sensitive promoter\"\n",
    "  type = DNA\n",
    "  role = Promoter\n",
    "\n",
    "glucose-sensitive_promoter2 : ComponentDefinition\n",
    "  description = \"Glucose-sensitive promoter\"\n",
    "  type = DNA\n",
    "  role = Promoter\n",
    "\"\"\"\n",
    "\n",
    "glucose_sensitive_promoter1 = ComponentDefinition(\"glucose_sensitive_promoter1\")\n",
    "glucose_sensitive_promoter1.description = \"Glucose-sensitive promoter\"\n",
    "#glucose_sensitive_promoter1.type = BIOPAX_DNA\n",
    "glucose_sensitive_promoter1.role = SO_PROMOTER\n",
    "\n",
    "\n",
    "glucose_sensitive_promoter2 = ComponentDefinition(\"glucose_sensitive_promoter2\")\n",
    "glucose_sensitive_promoter2.description = \"Glucose-sensitive promoter\"\n",
    "#glucose_sensitive_promoter2.type = BIOPAX_DNA\n",
    "glucose_sensitive_promoter2.role = SO_PROMOTER\n",
    "\n",
    "gfp_library = Collection(\"gfp_library\")\n",
    "gfp_library.description = \"A library of various GFP CDSes\"\n",
    "gfp_library.members.append(glucose_sensitive_promoter1)\n",
    "gfp_library.members.append(glucose_sensitive_promoter2)"
   ]
  },
  {
   "cell_type": "code",
   "execution_count": 104,
   "metadata": {},
   "outputs": [
    {
     "name": "stdout",
     "output_type": "stream",
     "text": [
      "http://synbiochem.co.uk/CombinatorialDerivation/gfp_reporter_derivation2/1.0.0\n"
     ]
    }
   ],
   "source": [
    "\"\"\"\n",
    "gfp_reporter_derivation2 : CombinatorialDerivation\n",
    "  template = gfp_reporter_template\n",
    "  strategy = enumerate\n",
    "  variableComponent : VariableComponent\n",
    "    operator = one\n",
    "    variable = p1_template\n",
    "    variant = glucose-sensitive_promoter1\n",
    "    variant = glucose-sensitive_promoter2\n",
    "  \n",
    "gfp_reporter_derivation3 : CombinatorialDerivation\n",
    "  template = gfp_reporter_template\n",
    "  strategy = enumerate\n",
    "  variableComponent : VariableComponent\n",
    "    operator = one\n",
    "    variable = c1_template\n",
    "    variantCollection = gfp_library\n",
    "\"\"\"\n",
    "\n",
    "\"\"\"\n",
    "gfp_library : Collection\n",
    "  description = \"A library of various GFP CDSes\"\n",
    "  member = gfp1\n",
    "  member = gfp2\n",
    "  member = gfp3\n",
    "\"\"\"\n",
    "\n",
    "gfp_reporter_derivation = CombinatorialDerivation(\"gfp_reporter_derivation2\")\n",
    "gfp_reporter_derivation.template = gfp_reporter_template\n",
    "gfp_reporter_derivation.template = 'http://sbols.org/v2#sample'\n",
    "var = VariableComponent('var1')\n",
    "#var.add( glucose_sensitive_promoter1 )\n",
    "gfp_reporter_derivation.variantCollections =  gfp_library \n",
    "#set([glucose_sensitive_promoter1, glucose_sensitive_promoter2])\n",
    "#gfp_reporter_derivation.variableComponents = var\n",
    "#.add( glucose_sensitive_promoter1 )\n",
    "#gfp_reporter_derivation.variants.add\n"
   ]
  },
  {
   "cell_type": "code",
   "execution_count": 87,
   "metadata": {},
   "outputs": [
    {
     "data": {
      "text/plain": [
       "['PythonObjects',\n",
       " '__class__',\n",
       " '__del__',\n",
       " '__delattr__',\n",
       " '__dict__',\n",
       " '__dir__',\n",
       " '__doc__',\n",
       " '__eq__',\n",
       " '__format__',\n",
       " '__ge__',\n",
       " '__getattr__',\n",
       " '__getattribute__',\n",
       " '__gt__',\n",
       " '__hash__',\n",
       " '__init__',\n",
       " '__init_subclass__',\n",
       " '__le__',\n",
       " '__lt__',\n",
       " '__module__',\n",
       " '__ne__',\n",
       " '__new__',\n",
       " '__reduce__',\n",
       " '__reduce_ex__',\n",
       " '__repr__',\n",
       " '__setattr__',\n",
       " '__setattribute__',\n",
       " '__sizeof__',\n",
       " '__str__',\n",
       " '__subclasshook__',\n",
       " '__swig_destroy__',\n",
       " '__swig_getmethods__',\n",
       " '__swig_setmethods__',\n",
       " '__weakref__',\n",
       " '_s',\n",
       " 'addPropertyValue',\n",
       " 'cast',\n",
       " 'compare',\n",
       " 'description',\n",
       " 'displayId',\n",
       " 'doc',\n",
       " 'find',\n",
       " 'find_property',\n",
       " 'find_property_value',\n",
       " 'find_reference',\n",
       " 'getAnnotation',\n",
       " 'getClassName',\n",
       " 'getProperties',\n",
       " 'getPropertyValue',\n",
       " 'getPropertyValues',\n",
       " 'getTypeURI',\n",
       " 'identity',\n",
       " 'name',\n",
       " 'parent',\n",
       " 'persistentIdentity',\n",
       " 'register_extension_class',\n",
       " 'repeat',\n",
       " 'setAnnotation',\n",
       " 'setPropertyValue',\n",
       " 'this',\n",
       " 'type',\n",
       " 'update_uri',\n",
       " 'variable',\n",
       " 'variantCollections',\n",
       " 'variantDerivations',\n",
       " 'variants',\n",
       " 'version',\n",
       " 'wasDerivedFrom',\n",
       " 'wasGeneratedBy']"
      ]
     },
     "execution_count": 87,
     "metadata": {},
     "output_type": "execute_result"
    }
   ],
   "source": [
    "dir(var)"
   ]
  },
  {
   "cell_type": "code",
   "execution_count": 74,
   "metadata": {},
   "outputs": [
    {
     "name": "stdout",
     "output_type": "stream",
     "text": [
      "> \u001b[0;32m/home/pablo/anaconda2/envs/doe/lib/python3.6/site-packages/sbol/libsbol.py\u001b[0m(51)\u001b[0;36m_swig_setattr_nondynamic\u001b[0;34m()\u001b[0m\n",
      "\u001b[0;32m     49 \u001b[0;31m    \u001b[0mmethod\u001b[0m \u001b[0;34m=\u001b[0m \u001b[0mclass_type\u001b[0m\u001b[0;34m.\u001b[0m\u001b[0m__swig_setmethods__\u001b[0m\u001b[0;34m.\u001b[0m\u001b[0mget\u001b[0m\u001b[0;34m(\u001b[0m\u001b[0mname\u001b[0m\u001b[0;34m,\u001b[0m \u001b[0;32mNone\u001b[0m\u001b[0;34m)\u001b[0m\u001b[0;34m\u001b[0m\u001b[0m\n",
      "\u001b[0m\u001b[0;32m     50 \u001b[0;31m    \u001b[0;32mif\u001b[0m \u001b[0mmethod\u001b[0m\u001b[0;34m:\u001b[0m\u001b[0;34m\u001b[0m\u001b[0m\n",
      "\u001b[0m\u001b[0;32m---> 51 \u001b[0;31m        \u001b[0;32mreturn\u001b[0m \u001b[0mmethod\u001b[0m\u001b[0;34m(\u001b[0m\u001b[0mself\u001b[0m\u001b[0;34m,\u001b[0m \u001b[0mvalue\u001b[0m\u001b[0;34m)\u001b[0m\u001b[0;34m\u001b[0m\u001b[0m\n",
      "\u001b[0m\u001b[0;32m     52 \u001b[0;31m    \u001b[0;32mif\u001b[0m \u001b[0;34m(\u001b[0m\u001b[0;32mnot\u001b[0m \u001b[0mstatic\u001b[0m\u001b[0;34m)\u001b[0m\u001b[0;34m:\u001b[0m\u001b[0;34m\u001b[0m\u001b[0m\n",
      "\u001b[0m\u001b[0;32m     53 \u001b[0;31m        \u001b[0;32mif\u001b[0m \u001b[0m_newclass\u001b[0m\u001b[0;34m:\u001b[0m\u001b[0;34m\u001b[0m\u001b[0m\n",
      "\u001b[0m\n",
      "ipdb> name\n",
      "'variable'\n",
      "ipdb> q\n"
     ]
    }
   ],
   "source": [
    "%debug"
   ]
  },
  {
   "cell_type": "code",
   "execution_count": 28,
   "metadata": {},
   "outputs": [
    {
     "name": "stdout",
     "output_type": "stream",
     "text": [
      "http://purl.org/dc/terms/description ('',)\n",
      "http://purl.org/dc/terms/title ('',)\n",
      "http://sbols.org/v2#displayId ('sc1',)\n",
      "http://sbols.org/v2#identity ('http://synbiochem.co.uk/sc1/1.0.0',)\n",
      "http://sbols.org/v2#object ('r1_template',)\n",
      "http://sbols.org/v2#persistentIdentity ('http://synbiochem.co.uk/sc1',)\n",
      "http://sbols.org/v2#restriction ('http://sbols.org/v2#precedes',)\n",
      "http://sbols.org/v2#subject ('p1_template',)\n",
      "http://sbols.org/v2#version ('1.0.0',)\n",
      "http://www.w3.org/ns/prov#wasDerivedFrom ('',)\n",
      "http://www.w3.org/ns/prov#wasGeneratedBy ('',)\n"
     ]
    }
   ],
   "source": [
    "for p in sc1.getProperties():\n",
    "    print(p,sc1.getPropertyValues(p))"
   ]
  },
  {
   "cell_type": "code",
   "execution_count": 69,
   "metadata": {},
   "outputs": [
    {
     "ename": "TypeError",
     "evalue": "__init__() got an unexpected keyword argument 'variable'",
     "output_type": "error",
     "traceback": [
      "\u001b[0;31m---------------------------------------------------------------------------\u001b[0m",
      "\u001b[0;31mTypeError\u001b[0m                                 Traceback (most recent call last)",
      "\u001b[0;32m<ipython-input-69-835cf4be2b88>\u001b[0m in \u001b[0;36m<module>\u001b[0;34m\u001b[0m\n\u001b[0;32m----> 1\u001b[0;31m \u001b[0mVariableComponent\u001b[0m\u001b[0;34m(\u001b[0m\u001b[0mvariable\u001b[0m\u001b[0;34m=\u001b[0m\u001b[0mp1_template\u001b[0m\u001b[0;34m)\u001b[0m\u001b[0;34m\u001b[0m\u001b[0m\n\u001b[0m",
      "\u001b[0;31mTypeError\u001b[0m: __init__() got an unexpected keyword argument 'variable'"
     ]
    }
   ],
   "source": [
    "VariableComponent(variable=p1_template)"
   ]
  },
  {
   "cell_type": "code",
   "execution_count": 78,
   "metadata": {},
   "outputs": [],
   "source": [
    "\n",
    "\n",
    "comp = ComponentDefinition('library')\n",
    "# Create several components \n",
    "gene = Component('gene1')\n",
    "promoter = Component('R0010')\n",
    "CDS = Component('B0032')\n",
    "RBS = Component('E0040')\n",
    "terminator = Component('B0012')\n",
    "\n",
    "# Define roles\n",
    "promoter.roles = SO_PROMOTER\n",
    "CDS.roles = SO_CDS\n",
    "RBS.roles = SO_RBS\n",
    "terminator.roles = SO_TERMINATOR\n",
    "\n",
    "comp.components.add(gene)\n",
    "comp.components.add(promoter)\n",
    "comp.components.add(CDS)\n",
    "comp.components.add(RBS)\n",
    "comp.components.add(terminator)\n",
    "\n",
    "combo = CombinatorialDerivation('combo')\n",
    "# Define a sample strategy: derive a subset\n",
    "combo.strategy = 'http://sbols.org/v2#sample'\n",
    "\n"
   ]
  },
  {
   "cell_type": "code",
   "execution_count": 37,
   "metadata": {},
   "outputs": [
    {
     "name": "stdout",
     "output_type": "stream",
     "text": [
      "http://synbiochem.co.uk/ComponentDefinition/library/gene1/1.0.0\n"
     ]
    }
   ],
   "source": [
    "print(comp.components.getAll()[0])"
   ]
  },
  {
   "cell_type": "code",
   "execution_count": 29,
   "metadata": {},
   "outputs": [],
   "source": [
    "gc = Component('gene3')"
   ]
  },
  {
   "cell_type": "code",
   "execution_count": 30,
   "metadata": {
    "scrolled": true
   },
   "outputs": [
    {
     "data": {
      "text/plain": [
       "['PythonObjects',\n",
       " '__class__',\n",
       " '__del__',\n",
       " '__delattr__',\n",
       " '__dict__',\n",
       " '__dir__',\n",
       " '__doc__',\n",
       " '__eq__',\n",
       " '__format__',\n",
       " '__ge__',\n",
       " '__getattr__',\n",
       " '__getattribute__',\n",
       " '__gt__',\n",
       " '__hash__',\n",
       " '__init__',\n",
       " '__init_subclass__',\n",
       " '__le__',\n",
       " '__lt__',\n",
       " '__module__',\n",
       " '__ne__',\n",
       " '__new__',\n",
       " '__reduce__',\n",
       " '__reduce_ex__',\n",
       " '__repr__',\n",
       " '__setattr__',\n",
       " '__setattribute__',\n",
       " '__sizeof__',\n",
       " '__str__',\n",
       " '__subclasshook__',\n",
       " '__swig_destroy__',\n",
       " '__swig_getmethods__',\n",
       " '__swig_setmethods__',\n",
       " '__weakref__',\n",
       " '_s',\n",
       " 'access',\n",
       " 'addPropertyValue',\n",
       " 'cast',\n",
       " 'compare',\n",
       " 'definition',\n",
       " 'description',\n",
       " 'displayId',\n",
       " 'doc',\n",
       " 'find',\n",
       " 'find_property',\n",
       " 'find_property_value',\n",
       " 'find_reference',\n",
       " 'getAnnotation',\n",
       " 'getClassName',\n",
       " 'getProperties',\n",
       " 'getPropertyValue',\n",
       " 'getPropertyValues',\n",
       " 'getTypeURI',\n",
       " 'identity',\n",
       " 'mapsTos',\n",
       " 'name',\n",
       " 'parent',\n",
       " 'persistentIdentity',\n",
       " 'register_extension_class',\n",
       " 'roleIntegration',\n",
       " 'roles',\n",
       " 'setAnnotation',\n",
       " 'setPropertyValue',\n",
       " 'this',\n",
       " 'type',\n",
       " 'update_uri',\n",
       " 'version',\n",
       " 'wasDerivedFrom',\n",
       " 'wasGeneratedBy']"
      ]
     },
     "execution_count": 30,
     "metadata": {},
     "output_type": "execute_result"
    }
   ],
   "source": [
    "dir(gc)"
   ]
  },
  {
   "cell_type": "code",
   "execution_count": null,
   "metadata": {},
   "outputs": [],
   "source": []
  }
 ],
 "metadata": {
  "kernelspec": {
   "display_name": "Python 3",
   "language": "python",
   "name": "python3"
  },
  "language_info": {
   "codemirror_mode": {
    "name": "ipython",
    "version": 3
   },
   "file_extension": ".py",
   "mimetype": "text/x-python",
   "name": "python",
   "nbconvert_exporter": "python",
   "pygments_lexer": "ipython3",
   "version": "3.6.6"
  }
 },
 "nbformat": 4,
 "nbformat_minor": 2
}
